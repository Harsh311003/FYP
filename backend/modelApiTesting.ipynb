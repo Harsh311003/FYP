{
 "cells": [
  {
   "cell_type": "code",
   "execution_count": 1,
   "id": "71c36354",
   "metadata": {},
   "outputs": [],
   "source": [
    "# Importing Libraries\n",
    "import pandas as pd\n",
    "import numpy as np\n",
    "import matplotlib.pyplot as plt\n",
    "from sklearn import metrics\n",
    "from sklearn.model_selection import StratifiedKFold\n",
    "from sklearn.model_selection import cross_val_score\n",
    "\n",
    "import warnings\n",
    "warnings.filterwarnings('ignore') "
   ]
  },
  {
   "cell_type": "markdown",
   "id": "574cf342",
   "metadata": {},
   "source": [
    "# Reading The data"
   ]
  },
  {
   "cell_type": "code",
   "execution_count": 2,
   "id": "7d9e17e4",
   "metadata": {},
   "outputs": [],
   "source": [
    "df = pd.read_csv('.\\chronic_kidney_disease.csv')"
   ]
  },
  {
   "cell_type": "markdown",
   "id": "0ba9ce6e",
   "metadata": {},
   "source": [
    "# Analyzing the data"
   ]
  },
  {
   "cell_type": "code",
   "execution_count": 3,
   "id": "98a606b5",
   "metadata": {},
   "outputs": [
    {
     "data": {
      "text/html": [
       "<div>\n",
       "<style scoped>\n",
       "    .dataframe tbody tr th:only-of-type {\n",
       "        vertical-align: middle;\n",
       "    }\n",
       "\n",
       "    .dataframe tbody tr th {\n",
       "        vertical-align: top;\n",
       "    }\n",
       "\n",
       "    .dataframe thead th {\n",
       "        text-align: right;\n",
       "    }\n",
       "</style>\n",
       "<table border=\"1\" class=\"dataframe\">\n",
       "  <thead>\n",
       "    <tr style=\"text-align: right;\">\n",
       "      <th></th>\n",
       "      <th>age</th>\n",
       "      <th>bp</th>\n",
       "      <th>sg</th>\n",
       "      <th>al</th>\n",
       "      <th>su</th>\n",
       "      <th>rbc</th>\n",
       "      <th>pc</th>\n",
       "      <th>pcc</th>\n",
       "      <th>ba</th>\n",
       "      <th>bgr</th>\n",
       "      <th>...</th>\n",
       "      <th>pcv</th>\n",
       "      <th>wbcc</th>\n",
       "      <th>rbcc</th>\n",
       "      <th>htn</th>\n",
       "      <th>dm</th>\n",
       "      <th>cad</th>\n",
       "      <th>appet</th>\n",
       "      <th>pe</th>\n",
       "      <th>ane</th>\n",
       "      <th>class</th>\n",
       "    </tr>\n",
       "  </thead>\n",
       "  <tbody>\n",
       "    <tr>\n",
       "      <th>0</th>\n",
       "      <td>48</td>\n",
       "      <td>80</td>\n",
       "      <td>1.02</td>\n",
       "      <td>1</td>\n",
       "      <td>0</td>\n",
       "      <td>0</td>\n",
       "      <td>0</td>\n",
       "      <td>1</td>\n",
       "      <td>1</td>\n",
       "      <td>121</td>\n",
       "      <td>...</td>\n",
       "      <td>44</td>\n",
       "      <td>7800</td>\n",
       "      <td>5.2</td>\n",
       "      <td>0</td>\n",
       "      <td>0</td>\n",
       "      <td>1</td>\n",
       "      <td>1</td>\n",
       "      <td>1</td>\n",
       "      <td>1</td>\n",
       "      <td>ckd</td>\n",
       "    </tr>\n",
       "    <tr>\n",
       "      <th>1</th>\n",
       "      <td>7</td>\n",
       "      <td>50</td>\n",
       "      <td>1.02</td>\n",
       "      <td>4</td>\n",
       "      <td>0</td>\n",
       "      <td>0</td>\n",
       "      <td>0</td>\n",
       "      <td>1</td>\n",
       "      <td>1</td>\n",
       "      <td>?</td>\n",
       "      <td>...</td>\n",
       "      <td>38</td>\n",
       "      <td>6000</td>\n",
       "      <td>0.0</td>\n",
       "      <td>1</td>\n",
       "      <td>1</td>\n",
       "      <td>1</td>\n",
       "      <td>1</td>\n",
       "      <td>1</td>\n",
       "      <td>1</td>\n",
       "      <td>ckd</td>\n",
       "    </tr>\n",
       "    <tr>\n",
       "      <th>2</th>\n",
       "      <td>62</td>\n",
       "      <td>80</td>\n",
       "      <td>1.01</td>\n",
       "      <td>2</td>\n",
       "      <td>3</td>\n",
       "      <td>0</td>\n",
       "      <td>0</td>\n",
       "      <td>1</td>\n",
       "      <td>1</td>\n",
       "      <td>423</td>\n",
       "      <td>...</td>\n",
       "      <td>31</td>\n",
       "      <td>7500</td>\n",
       "      <td>0.0</td>\n",
       "      <td>1</td>\n",
       "      <td>0</td>\n",
       "      <td>1</td>\n",
       "      <td>0</td>\n",
       "      <td>1</td>\n",
       "      <td>0</td>\n",
       "      <td>ckd</td>\n",
       "    </tr>\n",
       "    <tr>\n",
       "      <th>3</th>\n",
       "      <td>48</td>\n",
       "      <td>70</td>\n",
       "      <td>1.005</td>\n",
       "      <td>4</td>\n",
       "      <td>0</td>\n",
       "      <td>0</td>\n",
       "      <td>1</td>\n",
       "      <td>0</td>\n",
       "      <td>1</td>\n",
       "      <td>117</td>\n",
       "      <td>...</td>\n",
       "      <td>32</td>\n",
       "      <td>6700</td>\n",
       "      <td>3.9</td>\n",
       "      <td>0</td>\n",
       "      <td>1</td>\n",
       "      <td>1</td>\n",
       "      <td>0</td>\n",
       "      <td>0</td>\n",
       "      <td>0</td>\n",
       "      <td>ckd</td>\n",
       "    </tr>\n",
       "    <tr>\n",
       "      <th>4</th>\n",
       "      <td>51</td>\n",
       "      <td>80</td>\n",
       "      <td>1.01</td>\n",
       "      <td>2</td>\n",
       "      <td>0</td>\n",
       "      <td>0</td>\n",
       "      <td>0</td>\n",
       "      <td>1</td>\n",
       "      <td>1</td>\n",
       "      <td>106</td>\n",
       "      <td>...</td>\n",
       "      <td>35</td>\n",
       "      <td>7300</td>\n",
       "      <td>4.6</td>\n",
       "      <td>1</td>\n",
       "      <td>1</td>\n",
       "      <td>1</td>\n",
       "      <td>1</td>\n",
       "      <td>1</td>\n",
       "      <td>1</td>\n",
       "      <td>ckd</td>\n",
       "    </tr>\n",
       "  </tbody>\n",
       "</table>\n",
       "<p>5 rows × 25 columns</p>\n",
       "</div>"
      ],
      "text/plain": [
       "  age  bp     sg al su  rbc  pc  pcc  ba  bgr  ... pcv  wbcc rbcc htn dm  cad  \\\n",
       "0  48  80   1.02  1  0    0   0    1   1  121  ...  44  7800  5.2   0  0    1   \n",
       "1   7  50   1.02  4  0    0   0    1   1    ?  ...  38  6000  0.0   1  1    1   \n",
       "2  62  80   1.01  2  3    0   0    1   1  423  ...  31  7500  0.0   1  0    1   \n",
       "3  48  70  1.005  4  0    0   1    0   1  117  ...  32  6700  3.9   0  1    1   \n",
       "4  51  80   1.01  2  0    0   0    1   1  106  ...  35  7300  4.6   1  1    1   \n",
       "\n",
       "   appet  pe  ane  class  \n",
       "0      1   1    1    ckd  \n",
       "1      1   1    1    ckd  \n",
       "2      0   1    0    ckd  \n",
       "3      0   0    0    ckd  \n",
       "4      1   1    1    ckd  \n",
       "\n",
       "[5 rows x 25 columns]"
      ]
     },
     "execution_count": 3,
     "metadata": {},
     "output_type": "execute_result"
    }
   ],
   "source": [
    "df.head()"
   ]
  },
  {
   "cell_type": "code",
   "execution_count": 4,
   "id": "5fb59849",
   "metadata": {},
   "outputs": [
    {
     "name": "stdout",
     "output_type": "stream",
     "text": [
      "<class 'pandas.core.frame.DataFrame'>\n",
      "RangeIndex: 400 entries, 0 to 399\n",
      "Data columns (total 25 columns):\n",
      " #   Column  Non-Null Count  Dtype  \n",
      "---  ------  --------------  -----  \n",
      " 0   age     400 non-null    object \n",
      " 1   bp      400 non-null    object \n",
      " 2   sg      400 non-null    object \n",
      " 3   al      400 non-null    object \n",
      " 4   su      400 non-null    object \n",
      " 5   rbc     400 non-null    int64  \n",
      " 6   pc      400 non-null    int64  \n",
      " 7   pcc     400 non-null    int64  \n",
      " 8   ba      400 non-null    int64  \n",
      " 9   bgr     400 non-null    object \n",
      " 10  bu      400 non-null    object \n",
      " 11  sc      400 non-null    object \n",
      " 12  sod     400 non-null    object \n",
      " 13  pot     400 non-null    object \n",
      " 14  hemo    400 non-null    object \n",
      " 15  pcv     400 non-null    int64  \n",
      " 16  wbcc    400 non-null    int64  \n",
      " 17  rbcc    400 non-null    float64\n",
      " 18  htn     400 non-null    int64  \n",
      " 19  dm      400 non-null    int64  \n",
      " 20  cad     400 non-null    int64  \n",
      " 21  appet   400 non-null    int64  \n",
      " 22  pe      400 non-null    int64  \n",
      " 23  ane     400 non-null    int64  \n",
      " 24  class   400 non-null    object \n",
      "dtypes: float64(1), int64(12), object(12)\n",
      "memory usage: 78.2+ KB\n"
     ]
    }
   ],
   "source": [
    "df.info()"
   ]
  },
  {
   "cell_type": "markdown",
   "id": "048469ec",
   "metadata": {},
   "source": [
    "# Database loading and pre-processing"
   ]
  },
  {
   "cell_type": "code",
   "execution_count": 5,
   "id": "8ea63406",
   "metadata": {},
   "outputs": [
    {
     "name": "stdout",
     "output_type": "stream",
     "text": [
      "Shape of dataset: (400, 25)\n",
      "Total number of records in dataset = 400\n",
      "Total number of attributes in dataset = 25\n",
      "\n",
      "There is no missing values in the dataset.\n",
      "\n",
      "Are there missing values in Target Class? False\n",
      "\n",
      "Are there missing values in the Features? \n",
      "age       True\n",
      "bp        True\n",
      "sg        True\n",
      "al        True\n",
      "su        True\n",
      "rbc      False\n",
      "pc       False\n",
      "pcc      False\n",
      "ba       False\n",
      "bgr       True\n",
      "bu        True\n",
      "sc        True\n",
      "sod       True\n",
      "pot       True\n",
      "hemo      True\n",
      "pcv      False\n",
      "wbcc     False\n",
      "rbcc     False\n",
      "htn      False\n",
      "dm       False\n",
      "cad      False\n",
      "appet    False\n",
      "pe       False\n",
      "ane      False\n",
      "dtype: bool\n",
      "\n",
      "Now, Are there any missing values in Features? age      False\n",
      "bp       False\n",
      "sg       False\n",
      "al       False\n",
      "su       False\n",
      "rbc      False\n",
      "pc       False\n",
      "pcc      False\n",
      "ba       False\n",
      "bgr      False\n",
      "bu       False\n",
      "sc       False\n",
      "sod      False\n",
      "pot      False\n",
      "hemo     False\n",
      "pcv      False\n",
      "wbcc     False\n",
      "rbcc     False\n",
      "htn      False\n",
      "dm       False\n",
      "cad      False\n",
      "appet    False\n",
      "pe       False\n",
      "ane      False\n",
      "dtype: bool\n",
      "\n",
      "After Pre-processing:\n",
      "Size of train dataset: 320\n",
      "Size of test dataset: 80\n"
     ]
    }
   ],
   "source": [
    "#from sklearn.model_selection import train_test_split\n",
    "from sklearn.model_selection import train_test_split\n",
    "from sklearn.impute import KNNImputer\n",
    "from sklearn import preprocessing\n",
    "from sklearn.preprocessing import StandardScaler\n",
    "\n",
    "#Create function for checking missing values which accepts a dataframe as its parameter\n",
    "def null_values_check(df): \n",
    "    #Error handling to prevent abnormal termination of operation\n",
    "    try:\n",
    "        #if-else statement for null value check \n",
    "        if(df.isnull().values.any() == True):\n",
    "            #if there are null values present, print a column-wise summary of records with null values\n",
    "            print('Number of null records within each column:\\n' + str(df.isnull().sum()))\n",
    "        else:\n",
    "            print('There is no missing values in the dataset.')\n",
    "    \n",
    "    except Exception as e:\n",
    "        logging.error(e)\n",
    "\n",
    "#initialise variable with dataset name\n",
    "dataset_name = '.\\chronic_kidney_disease.csv'\n",
    "\n",
    "#error-handling to prevent abnormal termination of code\n",
    "try:\n",
    "    #import and load weather dataset into pandas dataframe\n",
    "    chronic_kidney_disease_dataframe = pd.read_csv(dataset_name)\n",
    "    \n",
    "    #Description of Datasets\n",
    "    #Print number of records and attributes of whole kidney dataset\n",
    "    print('Shape of dataset: ' + str(chronic_kidney_disease_dataframe.shape))\n",
    "    print('Total number of records in dataset = ' + str(chronic_kidney_disease_dataframe.shape[0]))\n",
    "    print('Total number of attributes in dataset = ' + str(chronic_kidney_disease_dataframe.shape[1]))\n",
    "    print('')\n",
    "    #call function created to check for null values\n",
    "    null_values_check(chronic_kidney_disease_dataframe)\n",
    "    #Missing value imputation\n",
    "    #replace ? to nan values \n",
    "    chronic_kidney_disease_dataframe = chronic_kidney_disease_dataframe.replace('?', np.nan)\n",
    "    \n",
    "    \n",
    "    #set the features and the target variables\n",
    "    target_class = chronic_kidney_disease_dataframe['class']\n",
    "    print('\\nAre there missing values in Target Class? ' + str(target_class.isna().any()))\n",
    "    feature_classes = chronic_kidney_disease_dataframe.iloc[:, 0:24]\n",
    "    print('\\nAre there missing values in the Features? \\n' + str(feature_classes.isna().any()))\n",
    "    \n",
    "    # replacing the null values\n",
    "    #KNN imputation (n_neighbour = 5 means that the missing values will be replaced by the mean value of 5 nearest neighbors)\n",
    "    knn_missing_values_imputer = KNNImputer(n_neighbors=5)\n",
    "    feature_classes = pd.DataFrame(knn_missing_values_imputer.fit_transform(feature_classes),\n",
    "                                   columns = feature_classes.columns)\n",
    "    print('\\nNow, Are there any missing values in Features? ' + str(feature_classes.isna().any()))\n",
    "    \n",
    "    \n",
    "    #Scaling and normalization of features\n",
    "    standard_feature_scaler = StandardScaler()\n",
    "    feature_classes = standard_feature_scaler.fit_transform(feature_classes)\n",
    "    feature_classes = pd.DataFrame(feature_classes, columns=['age', 'bp', 'sg', 'al', 'su', 'rbc', 'pc', \n",
    "                                                             'pcc', 'ba', 'bgr', 'bu', 'sc', 'sod', 'pot', \n",
    "                                                             'hemo', 'pcv', 'wbcc', 'rbcc', 'htn', 'dm', \n",
    "                                                             'cad', 'appet', 'pe', 'ane'])\n",
    "    \n",
    "    #Encoding target class using label encoding\n",
    "    target_label_encoder = preprocessing.LabelEncoder()\n",
    "    target_class = target_label_encoder.fit_transform(target_class)\n",
    "    #target_class1 = pd.DataFrame(target_class, columns=['class'])\n",
    "    \n",
    "    X=feature_classes\n",
    "    y=target_class\n",
    "    \n",
    "    #split the dataset into training and testing data using K Fold Approach\n",
    "    kf = StratifiedKFold(n_splits=5, random_state=None)\n",
    "    for train_index , test_index in kf.split(X,y):\n",
    "        X_train , X_test = X.iloc[train_index,:],X.iloc[test_index,:]\n",
    "        y_train , y_test = y[train_index] , y[test_index]\n",
    "        \n",
    "    print('\\nAfter Pre-processing:')\n",
    "    print('Size of train dataset: ' + str(X_train.shape[0]))\n",
    "    print('Size of test dataset: ' + str(y_test.shape[0]))\n",
    "                                                      \n",
    "except FileNotFoundError as e:\n",
    "    logging.error(e)"
   ]
  },
  {
   "cell_type": "markdown",
   "id": "456f395f",
   "metadata": {},
   "source": [
    "# Converting each column to float data type"
   ]
  },
  {
   "cell_type": "code",
   "execution_count": 6,
   "id": "e0e3e09a",
   "metadata": {},
   "outputs": [],
   "source": [
    "# taking the length of the column and converting the each column to float\n",
    "colLength = (len(chronic_kidney_disease_dataframe.axes[1]))\n",
    "\n",
    "# for storing the position of each column\n",
    "count=0;\n",
    "\n",
    "for i in chronic_kidney_disease_dataframe:\n",
    "    count += 1\n",
    "    # the last column of the data set is label so when we reach last column just break the loop\n",
    "    if(count==25):\n",
    "        break\n",
    "    \n",
    "    # converting each column to float data type\n",
    "    \n",
    "    chronic_kidney_disease_dataframe[i] = chronic_kidney_disease_dataframe[i].astype('float64')"
   ]
  },
  {
   "cell_type": "code",
   "execution_count": 7,
   "id": "e98ca9a9",
   "metadata": {},
   "outputs": [
    {
     "name": "stdout",
     "output_type": "stream",
     "text": [
      "<class 'pandas.core.frame.DataFrame'>\n",
      "RangeIndex: 400 entries, 0 to 399\n",
      "Data columns (total 25 columns):\n",
      " #   Column  Non-Null Count  Dtype  \n",
      "---  ------  --------------  -----  \n",
      " 0   age     391 non-null    float64\n",
      " 1   bp      388 non-null    float64\n",
      " 2   sg      353 non-null    float64\n",
      " 3   al      354 non-null    float64\n",
      " 4   su      351 non-null    float64\n",
      " 5   rbc     400 non-null    float64\n",
      " 6   pc      400 non-null    float64\n",
      " 7   pcc     400 non-null    float64\n",
      " 8   ba      400 non-null    float64\n",
      " 9   bgr     356 non-null    float64\n",
      " 10  bu      381 non-null    float64\n",
      " 11  sc      383 non-null    float64\n",
      " 12  sod     313 non-null    float64\n",
      " 13  pot     312 non-null    float64\n",
      " 14  hemo    348 non-null    float64\n",
      " 15  pcv     400 non-null    float64\n",
      " 16  wbcc    400 non-null    float64\n",
      " 17  rbcc    400 non-null    float64\n",
      " 18  htn     400 non-null    float64\n",
      " 19  dm      400 non-null    float64\n",
      " 20  cad     400 non-null    float64\n",
      " 21  appet   400 non-null    float64\n",
      " 22  pe      400 non-null    float64\n",
      " 23  ane     400 non-null    float64\n",
      " 24  class   400 non-null    object \n",
      "dtypes: float64(24), object(1)\n",
      "memory usage: 78.2+ KB\n"
     ]
    }
   ],
   "source": [
    "chronic_kidney_disease_dataframe.info()"
   ]
  },
  {
   "cell_type": "code",
   "execution_count": 8,
   "id": "0d30f2c2",
   "metadata": {},
   "outputs": [],
   "source": [
    "chronic_kidney_disease_dataframe['class'].value_counts()\n",
    "chronic_kidney_disease_dataframe['class'] = chronic_kidney_disease_dataframe['class'].replace(to_replace={'ckd\\t':'ckd'})\n",
    "chronic_kidney_disease_dataframe[\"class\"] = [1 if i == \"ckd\" else 0 for i in chronic_kidney_disease_dataframe[\"class\"]]\n",
    "features = ['age', 'bp', 'sg', 'al', 'su', 'rbc', 'pc', 'pcc', 'ba', 'bgr', 'bu',\n",
    "           'sc', 'sod', 'pot', 'hemo', 'pcv', 'wbcc', 'rbcc', 'htn', 'dm', 'cad',\n",
    "           'appet', 'pe', 'ane']"
   ]
  },
  {
   "cell_type": "markdown",
   "id": "605a28ee",
   "metadata": {},
   "source": [
    "# Filling empty cell or null values with median"
   ]
  },
  {
   "cell_type": "code",
   "execution_count": 9,
   "id": "61a56e84",
   "metadata": {},
   "outputs": [],
   "source": [
    "for feature in features:\n",
    "    chronic_kidney_disease_dataframe[feature] = chronic_kidney_disease_dataframe[feature].fillna(chronic_kidney_disease_dataframe[feature].median())"
   ]
  },
  {
   "cell_type": "markdown",
   "id": "644eeddc",
   "metadata": {},
   "source": [
    "# Checking For Null Values"
   ]
  },
  {
   "cell_type": "code",
   "execution_count": 10,
   "id": "4afa8948",
   "metadata": {},
   "outputs": [
    {
     "data": {
      "text/plain": [
       "0"
      ]
     },
     "execution_count": 10,
     "metadata": {},
     "output_type": "execute_result"
    }
   ],
   "source": [
    "chronic_kidney_disease_dataframe.isnull().any().sum()"
   ]
  },
  {
   "cell_type": "markdown",
   "id": "731012c4",
   "metadata": {},
   "source": [
    "# Mutual Information Feature Selection"
   ]
  },
  {
   "cell_type": "code",
   "execution_count": 11,
   "id": "0f6885d3",
   "metadata": {},
   "outputs": [
    {
     "data": {
      "text/plain": [
       "array([0.09798059, 0.17059044, 0.33760603, 0.33278109, 0.1070602 ,\n",
       "       0.12525046, 0.14236661, 0.02014856, 0.04980662, 0.14825289,\n",
       "       0.18321114, 0.35149283, 0.24248959, 0.17783384, 0.42390071,\n",
       "       0.4296973 , 0.1194202 , 0.37788368, 0.16852187, 0.20362832,\n",
       "       0.00785629, 0.1265008 , 0.11394442, 0.03933466])"
      ]
     },
     "execution_count": 11,
     "metadata": {},
     "output_type": "execute_result"
    }
   ],
   "source": [
    "from sklearn.feature_selection import mutual_info_classif\n",
    "mutual_info = mutual_info_classif(X_train, y_train)\n",
    "mutual_info"
   ]
  },
  {
   "cell_type": "code",
   "execution_count": 12,
   "id": "9886df13",
   "metadata": {},
   "outputs": [
    {
     "data": {
      "text/plain": [
       "pcv      0.429697\n",
       "hemo     0.423901\n",
       "rbcc     0.377884\n",
       "sc       0.351493\n",
       "sg       0.337606\n",
       "al       0.332781\n",
       "sod      0.242490\n",
       "dm       0.203628\n",
       "bu       0.183211\n",
       "pot      0.177834\n",
       "bp       0.170590\n",
       "htn      0.168522\n",
       "bgr      0.148253\n",
       "pc       0.142367\n",
       "appet    0.126501\n",
       "rbc      0.125250\n",
       "wbcc     0.119420\n",
       "pe       0.113944\n",
       "su       0.107060\n",
       "age      0.097981\n",
       "ba       0.049807\n",
       "ane      0.039335\n",
       "pcc      0.020149\n",
       "cad      0.007856\n",
       "dtype: float64"
      ]
     },
     "execution_count": 12,
     "metadata": {},
     "output_type": "execute_result"
    }
   ],
   "source": [
    "# converting to pandas series\n",
    "mutual_info = pd.Series(mutual_info)\n",
    "mutual_info.index = X_train.columns\n",
    "mutual_info.sort_values(ascending=False)"
   ]
  },
  {
   "cell_type": "code",
   "execution_count": 13,
   "id": "9a250e45",
   "metadata": {},
   "outputs": [
    {
     "data": {
      "text/plain": [
       "<AxesSubplot: xlabel='Features', ylabel='mutual_info'>"
      ]
     },
     "execution_count": 13,
     "metadata": {},
     "output_type": "execute_result"
    },
    {
     "data": {
      "image/png": "[encoded data removed]",
      "text/plain": [
       "<Figure size 2000x800 with 1 Axes>"
      ]
     },
     "metadata": {},
     "output_type": "display_data"
    }
   ],
   "source": [
    "mutual_info.sort_values(ascending=False).plot.bar(xlabel=\"Features\",ylabel=\"mutual_info\",figsize=(20, 8))"
   ]
  },
  {
   "cell_type": "code",
   "execution_count": 14,
   "id": "d88e41fa",
   "metadata": {},
   "outputs": [],
   "source": [
    "# Independent and Dependent Feature:\n",
    "X = chronic_kidney_disease_dataframe.iloc[:, :-1]\n",
    "y = chronic_kidney_disease_dataframe.iloc[:, -1]"
   ]
  },
  {
   "cell_type": "markdown",
   "id": "d4ca380d",
   "metadata": {},
   "source": [
    "# Function for calling classifier and splitting of dataset into traning and testing and selecting the best feature from the Mutual Information"
   ]
  },
  {
   "cell_type": "code",
   "execution_count": 15,
   "id": "47de6ea5",
   "metadata": {},
   "outputs": [],
   "source": [
    "# selecting the top feature\n",
    "from sklearn.feature_selection import SelectKBest\n",
    "def selectFeature(n):\n",
    "    sel_five_cols = SelectKBest(mutual_info_classif, k=n)\n",
    "    sel_five_cols.fit(X_train, y_train)\n",
    "    return X_train.columns[sel_five_cols.get_support()]\n",
    "\n",
    "# for selecting all the details of the dataset based on the selected top feature\n",
    "# chronic_kidney_disease_dataframe[['sg', 'htn', 'hemo', 'dm', 'al', 'appet', 'rc', 'pc']]\n",
    "dataset=[]\n",
    "def topFeature(feature):\n",
    "    dataset=[]\n",
    "    topFeature = []\n",
    "    for i in feature:\n",
    "        topFeature.append(i)\n",
    "    dataset.append(topFeature)\n",
    "    return dataset\n",
    "\n",
    "  \n",
    "# function for creating the final model\n",
    "def numberOfFeatureForClassifier(number):\n",
    "    selectedFeature = selectFeature(number)\n",
    "    feature =[]\n",
    "    for i in selectedFeature:\n",
    "        # appending the selected feature into a list\n",
    "        feature.append(i)\n",
    "\n",
    "    selectedDataSetForTraining = topFeature(feature)\n",
    "    \n",
    "    # calling the classifier function\n",
    "    return randomForestClassifier(selectedDataSetForTraining,feature,number)\n",
    "    \n",
    "\n"
   ]
  },
  {
   "cell_type": "markdown",
   "id": "3f6b3ca7",
   "metadata": {},
   "source": [
    " # Random Forest Classifier"
   ]
  },
  {
   "cell_type": "code",
   "execution_count": 16,
   "id": "7dff7cf1",
   "metadata": {},
   "outputs": [],
   "source": [
    "# Random Forest classifier function\n",
    "from sklearn.ensemble import RandomForestClassifier\n",
    "\n",
    "def randomForestClassifier(selectedDataSetForTraining,feature,number):\n",
    "    \n",
    "    # printing the top feature\n",
    "    print(\"Using Random Forest Classification\")\n",
    "    print(f\"The top {number} features are: \")\n",
    "    print(feature)\n",
    "    print()\n",
    "    \n",
    "    # Splitting of dataset using K Fold Validation Approach:\n",
    "    \n",
    "    X = chronic_kidney_disease_dataframe[selectedDataSetForTraining[0]]\n",
    "    k = 5  \n",
    "    print(X.head())\n",
    "    kf = StratifiedKFold(n_splits=k, random_state=None)\n",
    "    for train_index , test_index in kf.split(X,y):\n",
    "        X_train , X_test = X.iloc[train_index,:],X.iloc[test_index,:]\n",
    "        y_train , y_test = y[train_index] , y[test_index]\n",
    "\n",
    "    \n",
    "    # RandomForestClassifier:\n",
    "    RandomForest = RandomForestClassifier()   \n",
    "    RandomForest = RandomForest.fit(X_train,y_train)\n",
    "    \n",
    "    return RandomForest\n",
    "\n",
    "    "
   ]
  },
  {
   "cell_type": "markdown",
   "id": "e6946a74-5474-426c-a873-c9980ace8103",
   "metadata": {},
   "source": [
    "## Storing the final model in a variable"
   ]
  },
  {
   "cell_type": "code",
   "execution_count": 17,
   "id": "aa901206-6053-4fb7-945f-f9355d549b2d",
   "metadata": {},
   "outputs": [
    {
     "name": "stdout",
     "output_type": "stream",
     "text": [
      "Using Random Forest Classification\n",
      "The top 7 features are: \n",
      "['sg', 'al', 'sc', 'sod', 'hemo', 'pcv', 'rbcc']\n",
      "\n",
      "      sg   al   sc    sod  hemo   pcv  rbcc\n",
      "0  1.020  1.0  1.2  138.0  15.4  44.0   5.2\n",
      "1  1.020  4.0  0.8  138.0  11.3  38.0   0.0\n",
      "2  1.010  2.0  1.8  138.0   9.6  31.0   0.0\n",
      "3  1.005  4.0  3.8  111.0  11.2  32.0   3.9\n",
      "4  1.010  2.0  1.4  138.0  11.6  35.0   4.6\n"
     ]
    }
   ],
   "source": [
    "model = numberOfFeatureForClassifier(7)"
   ]
  },
  {
   "cell_type": "markdown",
   "id": "6ef1cc48-1565-436e-a3af-1f815dfd16e5",
   "metadata": {},
   "source": [
    "## Deploying model on local server"
   ]
  },
  {
   "cell_type": "code",
   "execution_count": null,
   "id": "e7e61297-ff84-41ce-8844-59e83e761773",
   "metadata": {},
   "outputs": [
    {
     "name": "stdout",
     "output_type": "stream",
     "text": [
      " * Serving Flask app '__main__'\n",
      " * Debug mode: on\n"
     ]
    },
    {
     "name": "stderr",
     "output_type": "stream",
     "text": [
      "WARNING: This is a development server. Do not use it in a production deployment. Use a production WSGI server instead.\n",
      " * Running on http://127.0.0.1:5000\n",
      "Press CTRL+C to quit\n",
      "127.0.0.1 - - [27/Nov/2023 15:13:26] \"OPTIONS /result HTTP/1.1\" 200 -\n",
      "127.0.0.1 - - [27/Nov/2023 15:13:26] \"POST /result HTTP/1.1\" 200 -\n"
     ]
    },
    {
     "name": "stdout",
     "output_type": "stream",
     "text": [
      "{'sg': '2', 'al': '2', 'sc': '2', 'sod': '2', 'hemo': '2', 'pcv': '2', 'rbcc': '2'}\n",
      "[1]\n"
     ]
    },
    {
     "name": "stderr",
     "output_type": "stream",
     "text": [
      "127.0.0.1 - - [27/Nov/2023 16:47:21] \"OPTIONS /result HTTP/1.1\" 200 -\n",
      "127.0.0.1 - - [27/Nov/2023 16:47:21] \"POST /result HTTP/1.1\" 200 -\n"
     ]
    },
    {
     "name": "stdout",
     "output_type": "stream",
     "text": [
      "{'sg': '1', 'al': '1', 'sc': '1', 'sod': '1', 'hemo': '1', 'pcv': '1', 'rbcc': '1'}\n",
      "[1]\n"
     ]
    }
   ],
   "source": [
    "# importing libararies and modules\n",
    "from flask import Flask, jsonify, request\n",
    "from flask_cors import CORS, cross_origin\n",
    "\n",
    "\n",
    "# creating an app\n",
    "app = Flask(__name__)\n",
    "\n",
    "\n",
    "#create endpoints\n",
    "@app.route('/',methods=['GET'])\n",
    "@cross_origin()\n",
    "def home():\n",
    "    return jsonify({ 'error' : \"wrong endpoint\"})\n",
    "\n",
    "\n",
    "@app.route('/result',methods=['POST'])\n",
    "@cross_origin()\n",
    "def result():\n",
    "    if request.method=='POST':\n",
    "        print(request.json)\n",
    "        sg = float(request.json['sg'])\n",
    "        al = float(request.json['al'])\n",
    "        sc = float(request.json['sc'])\n",
    "        sod = float(request.json['sod'])\n",
    "        hemo = float(request.json['hemo'])\n",
    "        pcv = float(request.json['pcv'])\n",
    "        rbcc = float(request.json['rbcc'])\n",
    "        values = np.array([[sg,al,sc,sod,hemo,pcv,rbcc]])\n",
    "        prediction = model.predict(values)\n",
    "        print(prediction)\n",
    "        result = True if prediction[0]==1 else False\n",
    "        return jsonify({'result' : result})\n",
    "\n",
    "\n",
    "if __name__== '__main__':\n",
    "    app.run(debug=True,use_reloader=False)"
   ]
  },
  {
   "cell_type": "code",
   "execution_count": null,
   "id": "23334d43-ff12-443a-8826-76578f456b3b",
   "metadata": {},
   "outputs": [],
   "source": []
  }
 ],
 "metadata": {
  "kernelspec": {
   "display_name": "Python 3 (ipykernel)",
   "language": "python",
   "name": "python3"
  },
  "language_info": {
   "codemirror_mode": {
    "name": "ipython",
    "version": 3
   },
   "file_extension": ".py",
   "mimetype": "text/x-python",
   "name": "python",
   "nbconvert_exporter": "python",
   "pygments_lexer": "ipython3",
   "version": "3.10.5"
  }
 },
 "nbformat": 4,
 "nbformat_minor": 5
}
